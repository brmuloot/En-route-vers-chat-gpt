{
 "cells": [
  {
   "cell_type": "markdown",
   "metadata": {},
   "source": [
    "# Ham or Spam?"
   ]
  },
  {
   "cell_type": "code",
   "execution_count": 97,
   "metadata": {
    "scrolled": true
   },
   "outputs": [
    {
     "name": "stdout",
     "output_type": "stream",
     "text": [
      "Requirement already satisfied: nltk in c:\\users\\utilisateur\\anaconda3\\lib\\site-packages (3.7)\n",
      "Requirement already satisfied: regex>=2021.8.3 in c:\\users\\utilisateur\\anaconda3\\lib\\site-packages (from nltk) (2022.3.15)\n",
      "Requirement already satisfied: click in c:\\users\\utilisateur\\anaconda3\\lib\\site-packages (from nltk) (8.0.4)\n",
      "Requirement already satisfied: tqdm in c:\\users\\utilisateur\\anaconda3\\lib\\site-packages (from nltk) (4.64.0)\n",
      "Requirement already satisfied: joblib in c:\\users\\utilisateur\\anaconda3\\lib\\site-packages (from nltk) (1.1.0)\n",
      "Requirement already satisfied: colorama in c:\\users\\utilisateur\\anaconda3\\lib\\site-packages (from click->nltk) (0.4.6)\n"
     ]
    },
    {
     "name": "stderr",
     "output_type": "stream",
     "text": [
      "[nltk_data] Downloading package stopwords to\n",
      "[nltk_data]     C:\\Users\\utilisateur\\AppData\\Roaming\\nltk_data...\n",
      "[nltk_data]   Package stopwords is already up-to-date!\n",
      "[nltk_data] Downloading package punkt to\n",
      "[nltk_data]     C:\\Users\\utilisateur\\AppData\\Roaming\\nltk_data...\n",
      "[nltk_data]   Package punkt is already up-to-date!\n",
      "[nltk_data] Downloading package wordnet to\n",
      "[nltk_data]     C:\\Users\\utilisateur\\AppData\\Roaming\\nltk_data...\n",
      "[nltk_data]   Package wordnet is already up-to-date!\n"
     ]
    },
    {
     "data": {
      "text/plain": [
       "True"
      ]
     },
     "execution_count": 97,
     "metadata": {},
     "output_type": "execute_result"
    }
   ],
   "source": [
    "# when installing nltk for the first time we need to also download a few built in libraries\n",
    "!pip install nltk\n",
    "import nltk\n",
    "nltk.download('stopwords')\n",
    "nltk.download('punkt')\n",
    "nltk.download('wordnet')"
   ]
  },
  {
   "cell_type": "code",
   "execution_count": 129,
   "metadata": {
    "scrolled": true
   },
   "outputs": [
    {
     "data": {
      "text/html": [
       "<div>\n",
       "<style scoped>\n",
       "    .dataframe tbody tr th:only-of-type {\n",
       "        vertical-align: middle;\n",
       "    }\n",
       "\n",
       "    .dataframe tbody tr th {\n",
       "        vertical-align: top;\n",
       "    }\n",
       "\n",
       "    .dataframe thead th {\n",
       "        text-align: right;\n",
       "    }\n",
       "</style>\n",
       "<table border=\"1\" class=\"dataframe\">\n",
       "  <thead>\n",
       "    <tr style=\"text-align: right;\">\n",
       "      <th></th>\n",
       "      <th>text</th>\n",
       "      <th>spam</th>\n",
       "      <th>clean_text</th>\n",
       "    </tr>\n",
       "  </thead>\n",
       "  <tbody>\n",
       "    <tr>\n",
       "      <th>0</th>\n",
       "      <td>Subject: naturally irresistible your corporate...</td>\n",
       "      <td>1</td>\n",
       "      <td>0</td>\n",
       "    </tr>\n",
       "    <tr>\n",
       "      <th>1</th>\n",
       "      <td>Subject: the stock trading gunslinger  fanny i...</td>\n",
       "      <td>1</td>\n",
       "      <td>0</td>\n",
       "    </tr>\n",
       "    <tr>\n",
       "      <th>2</th>\n",
       "      <td>Subject: unbelievable new homes made easy  im ...</td>\n",
       "      <td>1</td>\n",
       "      <td>0</td>\n",
       "    </tr>\n",
       "    <tr>\n",
       "      <th>3</th>\n",
       "      <td>Subject: 4 color printing special  request add...</td>\n",
       "      <td>1</td>\n",
       "      <td>0</td>\n",
       "    </tr>\n",
       "    <tr>\n",
       "      <th>4</th>\n",
       "      <td>Subject: do not have money , get software cds ...</td>\n",
       "      <td>1</td>\n",
       "      <td>0</td>\n",
       "    </tr>\n",
       "  </tbody>\n",
       "</table>\n",
       "</div>"
      ],
      "text/plain": [
       "                                                text  spam  clean_text\n",
       "0  Subject: naturally irresistible your corporate...     1           0\n",
       "1  Subject: the stock trading gunslinger  fanny i...     1           0\n",
       "2  Subject: unbelievable new homes made easy  im ...     1           0\n",
       "3  Subject: 4 color printing special  request add...     1           0\n",
       "4  Subject: do not have money , get software cds ...     1           0"
      ]
     },
     "execution_count": 129,
     "metadata": {},
     "output_type": "execute_result"
    }
   ],
   "source": [
    "import pandas as pd\n",
    "\n",
    "df = pd.read_pickle(\"email\")\n",
    "df['clean_text'] = 0\n",
    "df.head()"
   ]
  },
  {
   "cell_type": "markdown",
   "metadata": {},
   "source": [
    "The dataset is made up of email that are classified as ham [0] or spam[1]. You need to clean the dataset before training a prediction model."
   ]
  },
  {
   "cell_type": "markdown",
   "metadata": {},
   "source": [
    "## Remove Punctuation"
   ]
  },
  {
   "cell_type": "markdown",
   "metadata": {},
   "source": [
    "👇 Create a function to remove the punctuation. Apply it to the entire data and add the output as a new column in the dataframe called `clean_text`"
   ]
  },
  {
   "cell_type": "code",
   "execution_count": 130,
   "metadata": {},
   "outputs": [
    {
     "data": {
      "text/html": [
       "<div>\n",
       "<style scoped>\n",
       "    .dataframe tbody tr th:only-of-type {\n",
       "        vertical-align: middle;\n",
       "    }\n",
       "\n",
       "    .dataframe tbody tr th {\n",
       "        vertical-align: top;\n",
       "    }\n",
       "\n",
       "    .dataframe thead th {\n",
       "        text-align: right;\n",
       "    }\n",
       "</style>\n",
       "<table border=\"1\" class=\"dataframe\">\n",
       "  <thead>\n",
       "    <tr style=\"text-align: right;\">\n",
       "      <th></th>\n",
       "      <th>text</th>\n",
       "      <th>spam</th>\n",
       "      <th>clean_text</th>\n",
       "    </tr>\n",
       "  </thead>\n",
       "  <tbody>\n",
       "    <tr>\n",
       "      <th>0</th>\n",
       "      <td>Subject naturally irresistible your corporate ...</td>\n",
       "      <td>1</td>\n",
       "      <td>Subject naturally irresistible your corporate ...</td>\n",
       "    </tr>\n",
       "    <tr>\n",
       "      <th>1</th>\n",
       "      <td>Subject the stock trading gunslinger  fanny is...</td>\n",
       "      <td>1</td>\n",
       "      <td>Subject the stock trading gunslinger  fanny is...</td>\n",
       "    </tr>\n",
       "    <tr>\n",
       "      <th>2</th>\n",
       "      <td>Subject unbelievable new homes made easy  im w...</td>\n",
       "      <td>1</td>\n",
       "      <td>Subject unbelievable new homes made easy  im w...</td>\n",
       "    </tr>\n",
       "    <tr>\n",
       "      <th>3</th>\n",
       "      <td>Subject 4 color printing special  request addi...</td>\n",
       "      <td>1</td>\n",
       "      <td>Subject 4 color printing special  request addi...</td>\n",
       "    </tr>\n",
       "    <tr>\n",
       "      <th>4</th>\n",
       "      <td>Subject do not have money  get software cds fr...</td>\n",
       "      <td>1</td>\n",
       "      <td>Subject do not have money  get software cds fr...</td>\n",
       "    </tr>\n",
       "    <tr>\n",
       "      <th>...</th>\n",
       "      <td>...</td>\n",
       "      <td>...</td>\n",
       "      <td>...</td>\n",
       "    </tr>\n",
       "    <tr>\n",
       "      <th>5723</th>\n",
       "      <td>Subject re  research and development charges t...</td>\n",
       "      <td>0</td>\n",
       "      <td>Subject re  research and development charges t...</td>\n",
       "    </tr>\n",
       "    <tr>\n",
       "      <th>5724</th>\n",
       "      <td>Subject re  receipts from visit  jim   thanks ...</td>\n",
       "      <td>0</td>\n",
       "      <td>Subject re  receipts from visit  jim   thanks ...</td>\n",
       "    </tr>\n",
       "    <tr>\n",
       "      <th>5725</th>\n",
       "      <td>Subject re  enron case study update  wow  all ...</td>\n",
       "      <td>0</td>\n",
       "      <td>Subject re  enron case study update  wow  all ...</td>\n",
       "    </tr>\n",
       "    <tr>\n",
       "      <th>5726</th>\n",
       "      <td>Subject re  interest  david   please  call shi...</td>\n",
       "      <td>0</td>\n",
       "      <td>Subject re  interest  david   please  call shi...</td>\n",
       "    </tr>\n",
       "    <tr>\n",
       "      <th>5727</th>\n",
       "      <td>Subject news  aurora 5  2 update  aurora versi...</td>\n",
       "      <td>0</td>\n",
       "      <td>Subject news  aurora 5  2 update  aurora versi...</td>\n",
       "    </tr>\n",
       "  </tbody>\n",
       "</table>\n",
       "<p>5728 rows × 3 columns</p>\n",
       "</div>"
      ],
      "text/plain": [
       "                                                   text  spam  \\\n",
       "0     Subject naturally irresistible your corporate ...     1   \n",
       "1     Subject the stock trading gunslinger  fanny is...     1   \n",
       "2     Subject unbelievable new homes made easy  im w...     1   \n",
       "3     Subject 4 color printing special  request addi...     1   \n",
       "4     Subject do not have money  get software cds fr...     1   \n",
       "...                                                 ...   ...   \n",
       "5723  Subject re  research and development charges t...     0   \n",
       "5724  Subject re  receipts from visit  jim   thanks ...     0   \n",
       "5725  Subject re  enron case study update  wow  all ...     0   \n",
       "5726  Subject re  interest  david   please  call shi...     0   \n",
       "5727  Subject news  aurora 5  2 update  aurora versi...     0   \n",
       "\n",
       "                                             clean_text  \n",
       "0     Subject naturally irresistible your corporate ...  \n",
       "1     Subject the stock trading gunslinger  fanny is...  \n",
       "2     Subject unbelievable new homes made easy  im w...  \n",
       "3     Subject 4 color printing special  request addi...  \n",
       "4     Subject do not have money  get software cds fr...  \n",
       "...                                                 ...  \n",
       "5723  Subject re  research and development charges t...  \n",
       "5724  Subject re  receipts from visit  jim   thanks ...  \n",
       "5725  Subject re  enron case study update  wow  all ...  \n",
       "5726  Subject re  interest  david   please  call shi...  \n",
       "5727  Subject news  aurora 5  2 update  aurora versi...  \n",
       "\n",
       "[5728 rows x 3 columns]"
      ]
     },
     "execution_count": 130,
     "metadata": {},
     "output_type": "execute_result"
    }
   ],
   "source": [
    "import string\n",
    "\n",
    "def remove_punctuation(df, column):\n",
    "    for punctuation in string.punctuation:\n",
    "        df[column] = df[column].apply(lambda x: x.replace(punctuation,''))\n",
    "    return df[column]\n",
    "\n",
    "df['clean_text'] = remove_punctuation(df, \"text\")\n",
    "df"
   ]
  },
  {
   "cell_type": "markdown",
   "metadata": {},
   "source": [
    "## Lower Case"
   ]
  },
  {
   "cell_type": "markdown",
   "metadata": {},
   "source": [
    "👇 Create a function to lower case the text. Apply it to `clean_text`"
   ]
  },
  {
   "cell_type": "code",
   "execution_count": 131,
   "metadata": {},
   "outputs": [
    {
     "data": {
      "text/html": [
       "<div>\n",
       "<style scoped>\n",
       "    .dataframe tbody tr th:only-of-type {\n",
       "        vertical-align: middle;\n",
       "    }\n",
       "\n",
       "    .dataframe tbody tr th {\n",
       "        vertical-align: top;\n",
       "    }\n",
       "\n",
       "    .dataframe thead th {\n",
       "        text-align: right;\n",
       "    }\n",
       "</style>\n",
       "<table border=\"1\" class=\"dataframe\">\n",
       "  <thead>\n",
       "    <tr style=\"text-align: right;\">\n",
       "      <th></th>\n",
       "      <th>text</th>\n",
       "      <th>spam</th>\n",
       "      <th>clean_text</th>\n",
       "    </tr>\n",
       "  </thead>\n",
       "  <tbody>\n",
       "    <tr>\n",
       "      <th>0</th>\n",
       "      <td>Subject naturally irresistible your corporate ...</td>\n",
       "      <td>1</td>\n",
       "      <td>subject naturally irresistible your corporate ...</td>\n",
       "    </tr>\n",
       "    <tr>\n",
       "      <th>1</th>\n",
       "      <td>Subject the stock trading gunslinger  fanny is...</td>\n",
       "      <td>1</td>\n",
       "      <td>subject the stock trading gunslinger  fanny is...</td>\n",
       "    </tr>\n",
       "    <tr>\n",
       "      <th>2</th>\n",
       "      <td>Subject unbelievable new homes made easy  im w...</td>\n",
       "      <td>1</td>\n",
       "      <td>subject unbelievable new homes made easy  im w...</td>\n",
       "    </tr>\n",
       "    <tr>\n",
       "      <th>3</th>\n",
       "      <td>Subject 4 color printing special  request addi...</td>\n",
       "      <td>1</td>\n",
       "      <td>subject  color printing special  request addit...</td>\n",
       "    </tr>\n",
       "    <tr>\n",
       "      <th>4</th>\n",
       "      <td>Subject do not have money  get software cds fr...</td>\n",
       "      <td>1</td>\n",
       "      <td>subject do not have money  get software cds fr...</td>\n",
       "    </tr>\n",
       "    <tr>\n",
       "      <th>...</th>\n",
       "      <td>...</td>\n",
       "      <td>...</td>\n",
       "      <td>...</td>\n",
       "    </tr>\n",
       "    <tr>\n",
       "      <th>5723</th>\n",
       "      <td>Subject re  research and development charges t...</td>\n",
       "      <td>0</td>\n",
       "      <td>subject re  research and development charges t...</td>\n",
       "    </tr>\n",
       "    <tr>\n",
       "      <th>5724</th>\n",
       "      <td>Subject re  receipts from visit  jim   thanks ...</td>\n",
       "      <td>0</td>\n",
       "      <td>subject re  receipts from visit  jim   thanks ...</td>\n",
       "    </tr>\n",
       "    <tr>\n",
       "      <th>5725</th>\n",
       "      <td>Subject re  enron case study update  wow  all ...</td>\n",
       "      <td>0</td>\n",
       "      <td>subject re  enron case study update  wow  all ...</td>\n",
       "    </tr>\n",
       "    <tr>\n",
       "      <th>5726</th>\n",
       "      <td>Subject re  interest  david   please  call shi...</td>\n",
       "      <td>0</td>\n",
       "      <td>subject re  interest  david   please  call shi...</td>\n",
       "    </tr>\n",
       "    <tr>\n",
       "      <th>5727</th>\n",
       "      <td>Subject news  aurora 5  2 update  aurora versi...</td>\n",
       "      <td>0</td>\n",
       "      <td>subject news  aurora    update  aurora version...</td>\n",
       "    </tr>\n",
       "  </tbody>\n",
       "</table>\n",
       "<p>5728 rows × 3 columns</p>\n",
       "</div>"
      ],
      "text/plain": [
       "                                                   text  spam  \\\n",
       "0     Subject naturally irresistible your corporate ...     1   \n",
       "1     Subject the stock trading gunslinger  fanny is...     1   \n",
       "2     Subject unbelievable new homes made easy  im w...     1   \n",
       "3     Subject 4 color printing special  request addi...     1   \n",
       "4     Subject do not have money  get software cds fr...     1   \n",
       "...                                                 ...   ...   \n",
       "5723  Subject re  research and development charges t...     0   \n",
       "5724  Subject re  receipts from visit  jim   thanks ...     0   \n",
       "5725  Subject re  enron case study update  wow  all ...     0   \n",
       "5726  Subject re  interest  david   please  call shi...     0   \n",
       "5727  Subject news  aurora 5  2 update  aurora versi...     0   \n",
       "\n",
       "                                             clean_text  \n",
       "0     subject naturally irresistible your corporate ...  \n",
       "1     subject the stock trading gunslinger  fanny is...  \n",
       "2     subject unbelievable new homes made easy  im w...  \n",
       "3     subject  color printing special  request addit...  \n",
       "4     subject do not have money  get software cds fr...  \n",
       "...                                                 ...  \n",
       "5723  subject re  research and development charges t...  \n",
       "5724  subject re  receipts from visit  jim   thanks ...  \n",
       "5725  subject re  enron case study update  wow  all ...  \n",
       "5726  subject re  interest  david   please  call shi...  \n",
       "5727  subject news  aurora    update  aurora version...  \n",
       "\n",
       "[5728 rows x 3 columns]"
      ]
     },
     "execution_count": 131,
     "metadata": {},
     "output_type": "execute_result"
    }
   ],
   "source": [
    "def lower(df, column):\n",
    "    df[column] = df[column].apply(lambda x: x.lower())\n",
    "    return df[column]\n",
    "\n",
    "df['clean_text'] = lower(clean_text, \"clean_text\")\n",
    "df"
   ]
  },
  {
   "cell_type": "markdown",
   "metadata": {},
   "source": [
    "## Remove Numbers"
   ]
  },
  {
   "cell_type": "markdown",
   "metadata": {},
   "source": [
    "👇 Create a function to remove numbers from the text. Apply it to `clean_text`"
   ]
  },
  {
   "cell_type": "code",
   "execution_count": 132,
   "metadata": {},
   "outputs": [
    {
     "data": {
      "text/html": [
       "<div>\n",
       "<style scoped>\n",
       "    .dataframe tbody tr th:only-of-type {\n",
       "        vertical-align: middle;\n",
       "    }\n",
       "\n",
       "    .dataframe tbody tr th {\n",
       "        vertical-align: top;\n",
       "    }\n",
       "\n",
       "    .dataframe thead th {\n",
       "        text-align: right;\n",
       "    }\n",
       "</style>\n",
       "<table border=\"1\" class=\"dataframe\">\n",
       "  <thead>\n",
       "    <tr style=\"text-align: right;\">\n",
       "      <th></th>\n",
       "      <th>text</th>\n",
       "      <th>spam</th>\n",
       "      <th>clean_text</th>\n",
       "    </tr>\n",
       "  </thead>\n",
       "  <tbody>\n",
       "    <tr>\n",
       "      <th>0</th>\n",
       "      <td>Subject naturally irresistible your corporate ...</td>\n",
       "      <td>1</td>\n",
       "      <td>subject naturally irresistible your corporate ...</td>\n",
       "    </tr>\n",
       "    <tr>\n",
       "      <th>1</th>\n",
       "      <td>Subject the stock trading gunslinger  fanny is...</td>\n",
       "      <td>1</td>\n",
       "      <td>subject the stock trading gunslinger  fanny is...</td>\n",
       "    </tr>\n",
       "    <tr>\n",
       "      <th>2</th>\n",
       "      <td>Subject unbelievable new homes made easy  im w...</td>\n",
       "      <td>1</td>\n",
       "      <td>subject unbelievable new homes made easy  im w...</td>\n",
       "    </tr>\n",
       "    <tr>\n",
       "      <th>3</th>\n",
       "      <td>Subject 4 color printing special  request addi...</td>\n",
       "      <td>1</td>\n",
       "      <td>subject  color printing special  request addit...</td>\n",
       "    </tr>\n",
       "    <tr>\n",
       "      <th>4</th>\n",
       "      <td>Subject do not have money  get software cds fr...</td>\n",
       "      <td>1</td>\n",
       "      <td>subject do not have money  get software cds fr...</td>\n",
       "    </tr>\n",
       "    <tr>\n",
       "      <th>...</th>\n",
       "      <td>...</td>\n",
       "      <td>...</td>\n",
       "      <td>...</td>\n",
       "    </tr>\n",
       "    <tr>\n",
       "      <th>5723</th>\n",
       "      <td>Subject re  research and development charges t...</td>\n",
       "      <td>0</td>\n",
       "      <td>subject re  research and development charges t...</td>\n",
       "    </tr>\n",
       "    <tr>\n",
       "      <th>5724</th>\n",
       "      <td>Subject re  receipts from visit  jim   thanks ...</td>\n",
       "      <td>0</td>\n",
       "      <td>subject re  receipts from visit  jim   thanks ...</td>\n",
       "    </tr>\n",
       "    <tr>\n",
       "      <th>5725</th>\n",
       "      <td>Subject re  enron case study update  wow  all ...</td>\n",
       "      <td>0</td>\n",
       "      <td>subject re  enron case study update  wow  all ...</td>\n",
       "    </tr>\n",
       "    <tr>\n",
       "      <th>5726</th>\n",
       "      <td>Subject re  interest  david   please  call shi...</td>\n",
       "      <td>0</td>\n",
       "      <td>subject re  interest  david   please  call shi...</td>\n",
       "    </tr>\n",
       "    <tr>\n",
       "      <th>5727</th>\n",
       "      <td>Subject news  aurora 5  2 update  aurora versi...</td>\n",
       "      <td>0</td>\n",
       "      <td>subject news  aurora    update  aurora version...</td>\n",
       "    </tr>\n",
       "  </tbody>\n",
       "</table>\n",
       "<p>5728 rows × 3 columns</p>\n",
       "</div>"
      ],
      "text/plain": [
       "                                                   text  spam  \\\n",
       "0     Subject naturally irresistible your corporate ...     1   \n",
       "1     Subject the stock trading gunslinger  fanny is...     1   \n",
       "2     Subject unbelievable new homes made easy  im w...     1   \n",
       "3     Subject 4 color printing special  request addi...     1   \n",
       "4     Subject do not have money  get software cds fr...     1   \n",
       "...                                                 ...   ...   \n",
       "5723  Subject re  research and development charges t...     0   \n",
       "5724  Subject re  receipts from visit  jim   thanks ...     0   \n",
       "5725  Subject re  enron case study update  wow  all ...     0   \n",
       "5726  Subject re  interest  david   please  call shi...     0   \n",
       "5727  Subject news  aurora 5  2 update  aurora versi...     0   \n",
       "\n",
       "                                             clean_text  \n",
       "0     subject naturally irresistible your corporate ...  \n",
       "1     subject the stock trading gunslinger  fanny is...  \n",
       "2     subject unbelievable new homes made easy  im w...  \n",
       "3     subject  color printing special  request addit...  \n",
       "4     subject do not have money  get software cds fr...  \n",
       "...                                                 ...  \n",
       "5723  subject re  research and development charges t...  \n",
       "5724  subject re  receipts from visit  jim   thanks ...  \n",
       "5725  subject re  enron case study update  wow  all ...  \n",
       "5726  subject re  interest  david   please  call shi...  \n",
       "5727  subject news  aurora    update  aurora version...  \n",
       "\n",
       "[5728 rows x 3 columns]"
      ]
     },
     "execution_count": 132,
     "metadata": {},
     "output_type": "execute_result"
    }
   ],
   "source": [
    "def del_number(df):\n",
    "    return ''.join([word for word in df if not word.isdigit()])\n",
    "\n",
    "df['clean_text']  = df.clean_text.apply(del_number)\n",
    "df"
   ]
  },
  {
   "cell_type": "markdown",
   "metadata": {},
   "source": [
    "## Remove StopWords"
   ]
  },
  {
   "cell_type": "markdown",
   "metadata": {},
   "source": [
    "👇 Create a function to remove stopwords from the text. Apply it to `clean_text`."
   ]
  },
  {
   "cell_type": "code",
   "execution_count": 133,
   "metadata": {},
   "outputs": [
    {
     "data": {
      "text/html": [
       "<div>\n",
       "<style scoped>\n",
       "    .dataframe tbody tr th:only-of-type {\n",
       "        vertical-align: middle;\n",
       "    }\n",
       "\n",
       "    .dataframe tbody tr th {\n",
       "        vertical-align: top;\n",
       "    }\n",
       "\n",
       "    .dataframe thead th {\n",
       "        text-align: right;\n",
       "    }\n",
       "</style>\n",
       "<table border=\"1\" class=\"dataframe\">\n",
       "  <thead>\n",
       "    <tr style=\"text-align: right;\">\n",
       "      <th></th>\n",
       "      <th>text</th>\n",
       "      <th>spam</th>\n",
       "      <th>clean_text</th>\n",
       "    </tr>\n",
       "  </thead>\n",
       "  <tbody>\n",
       "    <tr>\n",
       "      <th>0</th>\n",
       "      <td>Subject naturally irresistible your corporate ...</td>\n",
       "      <td>1</td>\n",
       "      <td>subject naturally irresistible corporate ident...</td>\n",
       "    </tr>\n",
       "    <tr>\n",
       "      <th>1</th>\n",
       "      <td>Subject the stock trading gunslinger  fanny is...</td>\n",
       "      <td>1</td>\n",
       "      <td>subject stock trading gunslinger fanny merrill...</td>\n",
       "    </tr>\n",
       "    <tr>\n",
       "      <th>2</th>\n",
       "      <td>Subject unbelievable new homes made easy  im w...</td>\n",
       "      <td>1</td>\n",
       "      <td>subject unbelievable new homes made easy im wa...</td>\n",
       "    </tr>\n",
       "    <tr>\n",
       "      <th>3</th>\n",
       "      <td>Subject 4 color printing special  request addi...</td>\n",
       "      <td>1</td>\n",
       "      <td>subject color printing special request additio...</td>\n",
       "    </tr>\n",
       "    <tr>\n",
       "      <th>4</th>\n",
       "      <td>Subject do not have money  get software cds fr...</td>\n",
       "      <td>1</td>\n",
       "      <td>subject money get software cds software compat...</td>\n",
       "    </tr>\n",
       "    <tr>\n",
       "      <th>...</th>\n",
       "      <td>...</td>\n",
       "      <td>...</td>\n",
       "      <td>...</td>\n",
       "    </tr>\n",
       "    <tr>\n",
       "      <th>5723</th>\n",
       "      <td>Subject re  research and development charges t...</td>\n",
       "      <td>0</td>\n",
       "      <td>subject research development charges gpg forwa...</td>\n",
       "    </tr>\n",
       "    <tr>\n",
       "      <th>5724</th>\n",
       "      <td>Subject re  receipts from visit  jim   thanks ...</td>\n",
       "      <td>0</td>\n",
       "      <td>subject receipts visit jim thanks invitation v...</td>\n",
       "    </tr>\n",
       "    <tr>\n",
       "      <th>5725</th>\n",
       "      <td>Subject re  enron case study update  wow  all ...</td>\n",
       "      <td>0</td>\n",
       "      <td>subject enron case study update wow day super ...</td>\n",
       "    </tr>\n",
       "    <tr>\n",
       "      <th>5726</th>\n",
       "      <td>Subject re  interest  david   please  call shi...</td>\n",
       "      <td>0</td>\n",
       "      <td>subject interest david please call shirley cre...</td>\n",
       "    </tr>\n",
       "    <tr>\n",
       "      <th>5727</th>\n",
       "      <td>Subject news  aurora 5  2 update  aurora versi...</td>\n",
       "      <td>0</td>\n",
       "      <td>subject news aurora update aurora version fast...</td>\n",
       "    </tr>\n",
       "  </tbody>\n",
       "</table>\n",
       "<p>5728 rows × 3 columns</p>\n",
       "</div>"
      ],
      "text/plain": [
       "                                                   text  spam  \\\n",
       "0     Subject naturally irresistible your corporate ...     1   \n",
       "1     Subject the stock trading gunslinger  fanny is...     1   \n",
       "2     Subject unbelievable new homes made easy  im w...     1   \n",
       "3     Subject 4 color printing special  request addi...     1   \n",
       "4     Subject do not have money  get software cds fr...     1   \n",
       "...                                                 ...   ...   \n",
       "5723  Subject re  research and development charges t...     0   \n",
       "5724  Subject re  receipts from visit  jim   thanks ...     0   \n",
       "5725  Subject re  enron case study update  wow  all ...     0   \n",
       "5726  Subject re  interest  david   please  call shi...     0   \n",
       "5727  Subject news  aurora 5  2 update  aurora versi...     0   \n",
       "\n",
       "                                             clean_text  \n",
       "0     subject naturally irresistible corporate ident...  \n",
       "1     subject stock trading gunslinger fanny merrill...  \n",
       "2     subject unbelievable new homes made easy im wa...  \n",
       "3     subject color printing special request additio...  \n",
       "4     subject money get software cds software compat...  \n",
       "...                                                 ...  \n",
       "5723  subject research development charges gpg forwa...  \n",
       "5724  subject receipts visit jim thanks invitation v...  \n",
       "5725  subject enron case study update wow day super ...  \n",
       "5726  subject interest david please call shirley cre...  \n",
       "5727  subject news aurora update aurora version fast...  \n",
       "\n",
       "[5728 rows x 3 columns]"
      ]
     },
     "execution_count": 133,
     "metadata": {},
     "output_type": "execute_result"
    }
   ],
   "source": [
    "from nltk.corpus import stopwords\n",
    "from nltk.tokenize import word_tokenize\n",
    "def stop_words(df):\n",
    "    stop_word = set(stopwords.words('english'))\n",
    "    word_tokens = word_tokenize(df)\n",
    "    return ' '.join([w for w in word_tokens if not w in stop_word])\n",
    "\n",
    "df['clean_text']  = df.clean_text.apply(stop_words)\n",
    "df"
   ]
  },
  {
   "cell_type": "markdown",
   "metadata": {},
   "source": [
    "## Lemmatize"
   ]
  },
  {
   "cell_type": "markdown",
   "metadata": {},
   "source": [
    "👇 Create a function to lemmatize the text. Make sure the output is a single string, not a list of words. Apply it to `clean_text`."
   ]
  },
  {
   "cell_type": "code",
   "execution_count": 134,
   "metadata": {},
   "outputs": [
    {
     "name": "stderr",
     "output_type": "stream",
     "text": [
      "[nltk_data] Downloading package omw-1.4 to\n",
      "[nltk_data]     C:\\Users\\utilisateur\\AppData\\Roaming\\nltk_data...\n",
      "[nltk_data]   Package omw-1.4 is already up-to-date!\n"
     ]
    },
    {
     "data": {
      "text/plain": [
       "True"
      ]
     },
     "execution_count": 134,
     "metadata": {},
     "output_type": "execute_result"
    }
   ],
   "source": [
    "nltk.download('omw-1.4')"
   ]
  },
  {
   "cell_type": "code",
   "execution_count": 135,
   "metadata": {},
   "outputs": [
    {
     "data": {
      "text/html": [
       "<div>\n",
       "<style scoped>\n",
       "    .dataframe tbody tr th:only-of-type {\n",
       "        vertical-align: middle;\n",
       "    }\n",
       "\n",
       "    .dataframe tbody tr th {\n",
       "        vertical-align: top;\n",
       "    }\n",
       "\n",
       "    .dataframe thead th {\n",
       "        text-align: right;\n",
       "    }\n",
       "</style>\n",
       "<table border=\"1\" class=\"dataframe\">\n",
       "  <thead>\n",
       "    <tr style=\"text-align: right;\">\n",
       "      <th></th>\n",
       "      <th>text</th>\n",
       "      <th>spam</th>\n",
       "      <th>clean_text</th>\n",
       "    </tr>\n",
       "  </thead>\n",
       "  <tbody>\n",
       "    <tr>\n",
       "      <th>0</th>\n",
       "      <td>Subject naturally irresistible your corporate ...</td>\n",
       "      <td>1</td>\n",
       "      <td>subject naturally irresistible corporate ident...</td>\n",
       "    </tr>\n",
       "    <tr>\n",
       "      <th>1</th>\n",
       "      <td>Subject the stock trading gunslinger  fanny is...</td>\n",
       "      <td>1</td>\n",
       "      <td>subject stock trading gunslinger fanny merrill...</td>\n",
       "    </tr>\n",
       "    <tr>\n",
       "      <th>2</th>\n",
       "      <td>Subject unbelievable new homes made easy  im w...</td>\n",
       "      <td>1</td>\n",
       "      <td>subject unbelievable new home made easy im wan...</td>\n",
       "    </tr>\n",
       "    <tr>\n",
       "      <th>3</th>\n",
       "      <td>Subject 4 color printing special  request addi...</td>\n",
       "      <td>1</td>\n",
       "      <td>subject color printing special request additio...</td>\n",
       "    </tr>\n",
       "    <tr>\n",
       "      <th>4</th>\n",
       "      <td>Subject do not have money  get software cds fr...</td>\n",
       "      <td>1</td>\n",
       "      <td>subject money get software cd software compati...</td>\n",
       "    </tr>\n",
       "    <tr>\n",
       "      <th>...</th>\n",
       "      <td>...</td>\n",
       "      <td>...</td>\n",
       "      <td>...</td>\n",
       "    </tr>\n",
       "    <tr>\n",
       "      <th>5723</th>\n",
       "      <td>Subject re  research and development charges t...</td>\n",
       "      <td>0</td>\n",
       "      <td>subject research development charge gpg forwar...</td>\n",
       "    </tr>\n",
       "    <tr>\n",
       "      <th>5724</th>\n",
       "      <td>Subject re  receipts from visit  jim   thanks ...</td>\n",
       "      <td>0</td>\n",
       "      <td>subject receipt visit jim thanks invitation vi...</td>\n",
       "    </tr>\n",
       "    <tr>\n",
       "      <th>5725</th>\n",
       "      <td>Subject re  enron case study update  wow  all ...</td>\n",
       "      <td>0</td>\n",
       "      <td>subject enron case study update wow day super ...</td>\n",
       "    </tr>\n",
       "    <tr>\n",
       "      <th>5726</th>\n",
       "      <td>Subject re  interest  david   please  call shi...</td>\n",
       "      <td>0</td>\n",
       "      <td>subject interest david please call shirley cre...</td>\n",
       "    </tr>\n",
       "    <tr>\n",
       "      <th>5727</th>\n",
       "      <td>Subject news  aurora 5  2 update  aurora versi...</td>\n",
       "      <td>0</td>\n",
       "      <td>subject news aurora update aurora version fast...</td>\n",
       "    </tr>\n",
       "  </tbody>\n",
       "</table>\n",
       "<p>5728 rows × 3 columns</p>\n",
       "</div>"
      ],
      "text/plain": [
       "                                                   text  spam  \\\n",
       "0     Subject naturally irresistible your corporate ...     1   \n",
       "1     Subject the stock trading gunslinger  fanny is...     1   \n",
       "2     Subject unbelievable new homes made easy  im w...     1   \n",
       "3     Subject 4 color printing special  request addi...     1   \n",
       "4     Subject do not have money  get software cds fr...     1   \n",
       "...                                                 ...   ...   \n",
       "5723  Subject re  research and development charges t...     0   \n",
       "5724  Subject re  receipts from visit  jim   thanks ...     0   \n",
       "5725  Subject re  enron case study update  wow  all ...     0   \n",
       "5726  Subject re  interest  david   please  call shi...     0   \n",
       "5727  Subject news  aurora 5  2 update  aurora versi...     0   \n",
       "\n",
       "                                             clean_text  \n",
       "0     subject naturally irresistible corporate ident...  \n",
       "1     subject stock trading gunslinger fanny merrill...  \n",
       "2     subject unbelievable new home made easy im wan...  \n",
       "3     subject color printing special request additio...  \n",
       "4     subject money get software cd software compati...  \n",
       "...                                                 ...  \n",
       "5723  subject research development charge gpg forwar...  \n",
       "5724  subject receipt visit jim thanks invitation vi...  \n",
       "5725  subject enron case study update wow day super ...  \n",
       "5726  subject interest david please call shirley cre...  \n",
       "5727  subject news aurora update aurora version fast...  \n",
       "\n",
       "[5728 rows x 3 columns]"
      ]
     },
     "execution_count": 135,
     "metadata": {},
     "output_type": "execute_result"
    }
   ],
   "source": [
    "from nltk.stem import WordNetLemmatizer\n",
    "\n",
    "def lem(df):\n",
    "    words = df.split(\" \")\n",
    "    lemmatizer = WordNetLemmatizer()\n",
    "    lemmatized = [lemmatizer.lemmatize(word) for word in words]\n",
    "    df = lemmatized\n",
    "    return ' '.join(df)\n",
    "\n",
    "df['clean_text']  = df.clean_text.apply(lem)\n",
    "df"
   ]
  },
  {
   "cell_type": "markdown",
   "metadata": {},
   "source": [
    "## Bag-of-words Modelling"
   ]
  },
  {
   "cell_type": "markdown",
   "metadata": {},
   "source": [
    "👇 Vectorize the `clean_text` to a Bag-of-Words representation with a default CountVectorizer . Save as `X_bow`."
   ]
  },
  {
   "cell_type": "code",
   "execution_count": 148,
   "metadata": {},
   "outputs": [],
   "source": [
    "from sklearn.feature_extraction.text import CountVectorizer\n",
    "\n",
    "vectorizer = CountVectorizer()\n",
    "X = vectorizer.fit_transform(df['clean_text'])\n",
    "y = df.spam"
   ]
  },
  {
   "cell_type": "markdown",
   "metadata": {},
   "source": [
    "👇 Cross-validate a MultinomialNB model with the Bag-of-words. Score the model's accuracy."
   ]
  },
  {
   "cell_type": "code",
   "execution_count": 150,
   "metadata": {},
   "outputs": [
    {
     "data": {
      "text/plain": [
       "0.9949371508379888"
      ]
     },
     "execution_count": 150,
     "metadata": {},
     "output_type": "execute_result"
    }
   ],
   "source": [
    "from sklearn.naive_bayes import MultinomialNB\n",
    "nb_model = MultinomialNB()\n",
    "nb_model.fit(X,y)\n",
    "nb_model.score(X,y)"
   ]
  },
  {
   "cell_type": "markdown",
   "metadata": {},
   "source": [
    "⚠️ Please push the exercise once you are done 🙃\n",
    "\n",
    "## 🏁 "
   ]
  }
 ],
 "metadata": {
  "kernelspec": {
   "display_name": "Python 3 (ipykernel)",
   "language": "python",
   "name": "python3"
  },
  "language_info": {
   "codemirror_mode": {
    "name": "ipython",
    "version": 3
   },
   "file_extension": ".py",
   "mimetype": "text/x-python",
   "name": "python",
   "nbconvert_exporter": "python",
   "pygments_lexer": "ipython3",
   "version": "3.9.12"
  },
  "toc": {
   "base_numbering": 1,
   "nav_menu": {},
   "number_sections": false,
   "sideBar": true,
   "skip_h1_title": false,
   "title_cell": "Table of Contents",
   "title_sidebar": "Contents",
   "toc_cell": false,
   "toc_position": {},
   "toc_section_display": true,
   "toc_window_display": true
  },
  "varInspector": {
   "cols": {
    "lenName": 16,
    "lenType": 16,
    "lenVar": 40
   },
   "kernels_config": {
    "python": {
     "delete_cmd_postfix": "",
     "delete_cmd_prefix": "del ",
     "library": "var_list.py",
     "varRefreshCmd": "print(var_dic_list())"
    },
    "r": {
     "delete_cmd_postfix": ") ",
     "delete_cmd_prefix": "rm(",
     "library": "var_list.r",
     "varRefreshCmd": "cat(var_dic_list()) "
    }
   },
   "types_to_exclude": [
    "module",
    "function",
    "builtin_function_or_method",
    "instance",
    "_Feature"
   ],
   "window_display": false
  }
 },
 "nbformat": 4,
 "nbformat_minor": 4
}
